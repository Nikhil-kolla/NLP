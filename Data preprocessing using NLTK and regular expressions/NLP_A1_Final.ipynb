{
  "nbformat": 4,
  "nbformat_minor": 0,
  "metadata": {
    "colab": {
      "name": "NLP_A1_Final.ipynb",
      "provenance": []
    },
    "kernelspec": {
      "name": "python3",
      "display_name": "Python 3"
    }
  },
  "cells": [
    {
      "cell_type": "code",
      "metadata": {
        "id": "7HiRfIg1hbi7",
        "colab_type": "code",
        "colab": {
          "base_uri": "https://localhost:8080/",
          "height": 34
        },
        "outputId": "ca6adeb2-f59a-4b1a-abc9-ab17f2e23409"
      },
      "source": [
        "from google.colab import drive\n",
        "drive.mount('/content/drive')"
      ],
      "execution_count": 5,
      "outputs": [
        {
          "output_type": "stream",
          "text": [
            "Drive already mounted at /content/drive; to attempt to forcibly remount, call drive.mount(\"/content/drive\", force_remount=True).\n"
          ],
          "name": "stdout"
        }
      ]
    },
    {
      "cell_type": "markdown",
      "metadata": {
        "id": "tzHOC-FMiKyz",
        "colab_type": "text"
      },
      "source": [
        "Importing Libraries"
      ]
    },
    {
      "cell_type": "code",
      "metadata": {
        "id": "oY6DochZiMyO",
        "colab_type": "code",
        "colab": {
          "base_uri": "https://localhost:8080/",
          "height": 68
        },
        "outputId": "af3b1770-c155-4e8c-ad4c-a5b5ed672d77"
      },
      "source": [
        "import re\n",
        "from nltk import word_tokenize\n",
        "from nltk import sent_tokenize\n",
        "import sys\n",
        "import warnings\n",
        "warnings.filterwarnings(\"ignore\")\n",
        "import nltk\n",
        "nltk.download('punkt')"
      ],
      "execution_count": 6,
      "outputs": [
        {
          "output_type": "stream",
          "text": [
            "[nltk_data] Downloading package punkt to /root/nltk_data...\n",
            "[nltk_data]   Package punkt is already up-to-date!\n"
          ],
          "name": "stdout"
        },
        {
          "output_type": "execute_result",
          "data": {
            "text/plain": [
              "True"
            ]
          },
          "metadata": {
            "tags": []
          },
          "execution_count": 6
        }
      ]
    },
    {
      "cell_type": "code",
      "metadata": {
        "id": "wH-PjLaIkQk4",
        "colab_type": "code",
        "colab": {
          "base_uri": "https://localhost:8080/",
          "height": 102
        },
        "outputId": "30b47bf0-979d-42c8-b98e-29bcfdbd8467"
      },
      "source": [
        "print(\"Select any folder:-\")\n",
        "print(\"1.rec.motorcycles\")\n",
        "print(\"2.sci.med\")\n",
        "folder_choice = int(input(\"Enter your choice: \"))\n",
        "file1 = input(\"Enter the file name: \")\n",
        "if(folder_choice == 1): \n",
        "  loc = \"/content/drive/My Drive/NLP/A1/rec.motorcycles/\"+file1\n",
        "else:\n",
        "  loc = \"/content/drive/My Drive/NLP/A1/sci.med/\"+file1"
      ],
      "execution_count": 21,
      "outputs": [
        {
          "output_type": "stream",
          "text": [
            "Select any folder:-\n",
            "1.rec.motorcycles\n",
            "2.sci.med\n",
            "Enter your choice: 1\n",
            "Enter the file name: 103209\n"
          ],
          "name": "stdout"
        }
      ]
    },
    {
      "cell_type": "code",
      "metadata": {
        "id": "EUzKe1hAkXcG",
        "colab_type": "code",
        "colab": {}
      },
      "source": [
        "try:\n",
        "  with open(loc) as f:\n",
        "    filedata = f.read()\n",
        "    #print(filedata)\n",
        "except FileNotFoundError:\n",
        "    print(\"FILE DOES NOT EXIST \")\n",
        "    sys.exit()"
      ],
      "execution_count": 22,
      "outputs": []
    },
    {
      "cell_type": "markdown",
      "metadata": {
        "id": "iZnTOlWlklfN",
        "colab_type": "text"
      },
      "source": [
        "**Task 1:- Count of words and sentences**"
      ]
    },
    {
      "cell_type": "code",
      "metadata": {
        "id": "up1TEejbjq8c",
        "colab_type": "code",
        "colab": {
          "base_uri": "https://localhost:8080/",
          "height": 51
        },
        "outputId": "67f5d5e6-a36e-4c7f-8af8-8d961843e102"
      },
      "source": [
        "if(len(filedata)>0):\n",
        "  words_list = word_tokenize(filedata)\n",
        "  #print(words_list)\n",
        "print(\"The number of words in the file \\'{}\\' is:: {}\".format(file1,len(words_list)))\n",
        "sent_list = sent_tokenize(filedata)\n",
        "#print(sent_list)\n",
        "print(\"The number of sentences in the file \\'{}\\' is:: {}\".format(file1,len(sent_list)))"
      ],
      "execution_count": 23,
      "outputs": [
        {
          "output_type": "stream",
          "text": [
            "The number of words in the file '103209' is:: 398\n",
            "The number of sentences in the file '103209' is:: 16\n"
          ],
          "name": "stdout"
        }
      ]
    },
    {
      "cell_type": "markdown",
      "metadata": {
        "id": "egcicjJ-mAj0",
        "colab_type": "text"
      },
      "source": [
        "**Task 2:- Count of words starting with consonants and vowels**"
      ]
    },
    {
      "cell_type": "code",
      "metadata": {
        "id": "mgbm21VrlvoG",
        "colab_type": "code",
        "colab": {
          "base_uri": "https://localhost:8080/",
          "height": 68
        },
        "outputId": "430df45a-26d3-49e8-c977-c3ea7b6772d5"
      },
      "source": [
        "vowel_word_count = 0\n",
        "consonant_word_count = 0\n",
        "vowel_pattern_upper = '^[AEIOU]'\n",
        "vowel_pattern_lower = '^[aeiou]'\n",
        "consonant_pattern_upper = '^[BCDFGHJKLMNPQRSTVWXYZ]'\n",
        "consonant_pattern_lower = '^[bcdfghjklmnpqrstvwxyz]'\n",
        "for i in words_list: #iterating over every word and checking for the pattern\n",
        "    if(re.match(vowel_pattern_upper,i) or re.match(vowel_pattern_lower,i)):\n",
        "        vowel_word_count = vowel_word_count+1\n",
        "    if(re.match(consonant_pattern_upper,i) or re.match(consonant_pattern_lower,i)):\n",
        "        consonant_word_count = consonant_word_count+1\n",
        "print(\"\\n The number of words in the file  \\'{}\\' starts with vowels :: {}\".format(file1,vowel_word_count))\n",
        "print(\" The number of words in the file  \\'{}\\' starts with consonants :: {}\".format(file1,consonant_word_count))"
      ],
      "execution_count": 24,
      "outputs": [
        {
          "output_type": "stream",
          "text": [
            "\n",
            " The number of words in the file  '103209' starts with vowels :: 83\n",
            " The number of words in the file  '103209' starts with consonants :: 196\n"
          ],
          "name": "stdout"
        }
      ]
    },
    {
      "cell_type": "markdown",
      "metadata": {
        "id": "2wgu3cKNnZi2",
        "colab_type": "text"
      },
      "source": [
        "**Task 3:- Email id's present in file**"
      ]
    },
    {
      "cell_type": "code",
      "metadata": {
        "id": "mlawI2o7nRwT",
        "colab_type": "code",
        "colab": {
          "base_uri": "https://localhost:8080/",
          "height": 170
        },
        "outputId": "ed84d1c8-3bd9-452a-9259-99602128d588"
      },
      "source": [
        "email_pattern = '[a-zA-Z0-9-_.<\\W]+@[a-zA-Z0-9-_.>\\W]+'\n",
        "#email_pattern = '^[a-zA-Z0-9_.+-]+@[a-zA-Z0-9-]+\\.[a-zA-Z0-9-.]+$'\n",
        "words = filedata.split()\n",
        "print(\"THE LIST OF E-MAILS PRESENT IN THE FILE::\")\n",
        "for i in words:\n",
        "    if(re.match(email_pattern,i)):\n",
        "        print(i.strip('<>'))"
      ],
      "execution_count": 25,
      "outputs": [
        {
          "output_type": "stream",
          "text": [
            "THE LIST OF E-MAILS PRESENT IN THE FILE::\n",
            "terry@prcrs.prc.com\n",
            "5914@prcrs.prc.com\n",
            "1993Mar26.222111.6708@linus.mitre.org\n",
            "Z4221B1w165w@fringe.rain.com\n",
            "jlp.733424226@wink\n",
            "jlp.733424226@wink>,\n",
            "jlp@blink.att.com\n",
            "terry@rsi.prc.com\n"
          ],
          "name": "stdout"
        }
      ]
    },
    {
      "cell_type": "markdown",
      "metadata": {
        "id": "nuTnCewlqKQs",
        "colab_type": "text"
      },
      "source": [
        "Reference :- https://stackoverflow.com/questions/201323/how-to-validate-an-email-address-using-a-regular-expression"
      ]
    },
    {
      "cell_type": "code",
      "metadata": {
        "id": "kqK2ihHIoJ1T",
        "colab_type": "code",
        "colab": {
          "base_uri": "https://localhost:8080/",
          "height": 85
        },
        "outputId": "43ae65e3-5ff8-4cfd-dfe8-d973b56bb4b1"
      },
      "source": [
        "#email_pattern = '[a-zA-Z0-9-_.<\\W]+@[a-zA-Z0-9-_.>\\W]+'\n",
        "email_pattern = '^[a-zA-Z0-9_.+-]+@[a-zA-Z0-9-]+\\.[a-zA-Z0-9-.]+$'\n",
        "words = filedata.split()\n",
        "print(\"THE LIST OF E-MAILS PRESENT IN THE FILE::\")\n",
        "for i in words:\n",
        "    if(re.match(email_pattern,i)):\n",
        "        print(i.strip('<>'))"
      ],
      "execution_count": 26,
      "outputs": [
        {
          "output_type": "stream",
          "text": [
            "THE LIST OF E-MAILS PRESENT IN THE FILE::\n",
            "terry@prcrs.prc.com\n",
            "jlp@blink.att.com\n",
            "terry@rsi.prc.com\n"
          ],
          "name": "stdout"
        }
      ]
    },
    {
      "cell_type": "markdown",
      "metadata": {
        "id": "b1NH84XGqTub",
        "colab_type": "text"
      },
      "source": [
        "**Task 4:- Sentences starting with a given word**"
      ]
    },
    {
      "cell_type": "code",
      "metadata": {
        "id": "saYm3oBzqCRh",
        "colab_type": "code",
        "colab": {
          "base_uri": "https://localhost:8080/",
          "height": 51
        },
        "outputId": "7b559106-f2ee-401a-87c1-33cfc6fb8fce"
      },
      "source": [
        "sentence_start=0\n",
        "start_word = input(\"Enter the required word to be matched with begining of sentence:: \")\n",
        "for i in range(len(sent_list)):\n",
        "    individual_words_list=[]\n",
        "    individual_words_list = word_tokenize(sent_list[i])\n",
        "    if(individual_words_list[0]==start_word):\n",
        "        sentence_start=sentence_start+1\n",
        "print(\"THE NUMBER OF TIMES THE WORD \\'{}\\' OCCURED AT THE BEGINNING OF THE SENTENCE IN THE FILE {} IS:: {}\".format(start_word,file1,sentence_start))"
      ],
      "execution_count": 27,
      "outputs": [
        {
          "output_type": "stream",
          "text": [
            "Enter the required word to be matched with begining of sentence:: of\n",
            "THE NUMBER OF TIMES THE WORD 'of' OCCURED AT THE BEGINNING OF THE SENTENCE IN THE FILE 103209 IS:: 0\n"
          ],
          "name": "stdout"
        }
      ]
    },
    {
      "cell_type": "markdown",
      "metadata": {
        "id": "kVuhmCrgryf0",
        "colab_type": "text"
      },
      "source": [
        "**Task 5:- Sentences ends with a given word**"
      ]
    },
    {
      "cell_type": "code",
      "metadata": {
        "id": "rNWu03UkrXZ4",
        "colab_type": "code",
        "colab": {
          "base_uri": "https://localhost:8080/",
          "height": 51
        },
        "outputId": "9081a635-6a7e-4a38-aedb-a0d75dfae45e"
      },
      "source": [
        "sentence_end=0\n",
        "end_word = input(\"Enter the required word to be matched with ending of sentence:: \")\n",
        "for i in range(len(sent_list)):\n",
        "    individual_words_list=[]\n",
        "    individual_words_list = word_tokenize(sent_list[i])\n",
        "    if(individual_words_list[-1]==end_word):\n",
        "        sentence_end=sentence_end+1\n",
        "print(\"THE NUMBER OF TIMES THE WORD \\'{}\\' OCCURED AT THE BEGINNING OF THE SENTENCE IN THE FILE {} IS:: {}\".format(end_word,file1,sentence_end))"
      ],
      "execution_count": 28,
      "outputs": [
        {
          "output_type": "stream",
          "text": [
            "Enter the required word to be matched with ending of sentence:: to\n",
            "THE NUMBER OF TIMES THE WORD 'to' OCCURED AT THE BEGINNING OF THE SENTENCE IN THE FILE 103209 IS:: 0\n"
          ],
          "name": "stdout"
        }
      ]
    },
    {
      "cell_type": "markdown",
      "metadata": {
        "id": "wjZAYxO6sPcF",
        "colab_type": "text"
      },
      "source": [
        "**Task 6:- Count of words and sentences containg the word**"
      ]
    },
    {
      "cell_type": "code",
      "metadata": {
        "id": "2oEdK6CDsLOi",
        "colab_type": "code",
        "colab": {
          "base_uri": "https://localhost:8080/",
          "height": 68
        },
        "outputId": "92f3ad43-51c3-4e38-f02c-6b98b7c96df5"
      },
      "source": [
        "word_count_t6 = 0\n",
        "sen_count_t6 = 0\n",
        "req_word = str(input('Enter the required word: '))\n",
        "for i in words_list:\n",
        "  if( i==req_word or i==req_word+\".\" or i==req_word+\"?\" or i==req_word+\"!\" or i==\"<\"+req_word+\">\" or i==req_word+\",\" or i==req_word+\"..\" ):\n",
        "        word_count_t6 = word_count_t6+1\n",
        "\n",
        "for i in sent_list:\n",
        "  if((\" \"+req_word+\" \" in i) or (\" \"+req_word+\".\" in i) or (\" \"+req_word+\"?\" in i) or (\" \"+req_word+\"!\" in i) or (\"<\"+req_word+\">\" in i) or (\" \"+req_word+\",\" in i) or (\" \"+req_word+\"..\" in i)):\n",
        "    sen_count_t6 = sen_count_t6+1\n",
        "    #print(i)\n",
        "\n",
        "print(\"The count of the word \\'{}\\' in the file {} IS: {}\".format(req_word,file1,word_count_t6))\n",
        "print(\"The count of the sentences with the word \\'{}\\' in the file {} is: {}\".format(req_word,file1,sen_count_t6))"
      ],
      "execution_count": 29,
      "outputs": [
        {
          "output_type": "stream",
          "text": [
            "Enter the required word: to\n",
            "The count of the word 'to' in the file 103209 IS: 7\n",
            "The count of the sentences with the word 'to' in the file 103209 is: 6\n"
          ],
          "name": "stdout"
        }
      ]
    },
    {
      "cell_type": "markdown",
      "metadata": {
        "id": "PbFa0VvCzE0p",
        "colab_type": "text"
      },
      "source": [
        "**Task 7:- Questions present in the file**"
      ]
    },
    {
      "cell_type": "code",
      "metadata": {
        "id": "R9W3_J5GxBTa",
        "colab_type": "code",
        "colab": {
          "base_uri": "https://localhost:8080/",
          "height": 68
        },
        "outputId": "a410da3c-ddee-497a-8053-da5b6960f194"
      },
      "source": [
        "print(\"The questions present in the given file are:- \")\n",
        "count_t7 =0\n",
        "for i in sent_list:\n",
        "  if(i[-1]=='?'):\n",
        "    print(i)\n",
        "    count_t7=count_t7+1\n",
        "print()\n",
        "print(\"The number of questions present in the file is: {}\".format(count_t7))"
      ],
      "execution_count": 30,
      "outputs": [
        {
          "output_type": "stream",
          "text": [
            "The questions present in the given file are:- \n",
            "\n",
            "The number of questions present in the file is: 0\n"
          ],
          "name": "stdout"
        }
      ]
    },
    {
      "cell_type": "markdown",
      "metadata": {
        "id": "GhjD8CCF0WdP",
        "colab_type": "text"
      },
      "source": [
        "**Task 8:- Minutes and Seconds**"
      ]
    },
    {
      "cell_type": "code",
      "metadata": {
        "id": "n6J1OVczz5zQ",
        "colab_type": "code",
        "colab": {
          "base_uri": "https://localhost:8080/",
          "height": 51
        },
        "outputId": "fe383a3b-0ce2-4303-85ae-57a2272ae5b0"
      },
      "source": [
        "regex_t8 = '[0-9][0-9]:[0-9][0-9]:[0-9][0-9]'\n",
        "print(\"The minutes and seconds in the file \\'{}\\' are:- \".format(file1))\n",
        "for word in words_list:\n",
        "  if re.match(regex_t8,word):\n",
        "    time = word.split(':')\n",
        "    print(\"{} min, {} sec for the time {}\".format(time[1],time[2],word))"
      ],
      "execution_count": 31,
      "outputs": [
        {
          "output_type": "stream",
          "text": [
            "The minutes and seconds in the file '103209' are:- \n",
            "29 min, 42 sec for the time 15:29:42\n"
          ],
          "name": "stdout"
        }
      ]
    },
    {
      "cell_type": "markdown",
      "metadata": {
        "id": "lK9wRwLT1_Jw",
        "colab_type": "text"
      },
      "source": [
        "**Task 9:- Abbrevations present in the file**"
      ]
    },
    {
      "cell_type": "markdown",
      "metadata": {
        "id": "FgYeFe8-9Vj0",
        "colab_type": "text"
      },
      "source": [
        "Reference:- https://pypi.org/project/scispacy/"
      ]
    },
    {
      "cell_type": "code",
      "metadata": {
        "id": "ApS-WpQy_Cy6",
        "colab_type": "code",
        "colab": {}
      },
      "source": [
        "#pip install scispacy"
      ],
      "execution_count": 20,
      "outputs": []
    },
    {
      "cell_type": "code",
      "metadata": {
        "id": "viTxUNLQ1zms",
        "colab_type": "code",
        "colab": {
          "base_uri": "https://localhost:8080/",
          "height": 51
        },
        "outputId": "56f224da-0388-4a2d-e59c-c43411074344"
      },
      "source": [
        "import spacy\n",
        "from scispacy.abbreviation import AbbreviationDetector\n",
        "print(\"The abbreviations in the file \\'{}\\' are:\".format(file1))\n",
        "#loading the pre-trained model for abbrevations\n",
        "abbrevation_t9 = spacy.load(\"en_core_web_sm\")\n",
        "\n",
        "abbrev_pipe = AbbreviationDetector(abbrevation_t9)\n",
        "abbrevation_t9.add_pipe(abbrev_pipe)\n",
        "\n",
        "doc = abbrevation_t9(filedata)\n",
        "print(doc._.abbreviations)\n"
      ],
      "execution_count": 32,
      "outputs": [
        {
          "output_type": "stream",
          "text": [
            "The abbreviations in the file '103209' are:\n",
            "[]\n"
          ],
          "name": "stdout"
        }
      ]
    },
    {
      "cell_type": "code",
      "metadata": {
        "id": "PNhIBzuX-8XI",
        "colab_type": "code",
        "colab": {}
      },
      "source": [
        ""
      ],
      "execution_count": null,
      "outputs": []
    }
  ]
}